{
 "cells": [
  {
   "cell_type": "markdown",
   "metadata": {},
   "source": [
    "https://stackoverflow.com/questions/33720645/why-is-this-tensorflow-implementation-vastly-less-successful-than-matlabs-nn"
   ]
  },
  {
   "cell_type": "code",
   "execution_count": 3,
   "metadata": {
    "collapsed": true
   },
   "outputs": [],
   "source": [
    "%matplotlib inline\n",
    "import matplotlib.pyplot as plt\n",
    "import tensorflow as tf\n",
    "import numpy as np"
   ]
  },
  {
   "cell_type": "code",
   "execution_count": 15,
   "metadata": {
    "collapsed": false,
    "scrolled": true
   },
   "outputs": [
    {
     "name": "stdout",
     "output_type": "stream",
     "text": [
      "33.1688\n",
      "0.735795\n",
      "0.00819243\n",
      "0.00392356\n",
      "0.00314292\n",
      "0.00272895\n",
      "0.00236401\n",
      "0.00202366\n",
      "0.00172051\n"
     ]
    }
   ],
   "source": [
    "def weight_variable(shape):\n",
    "  initial = tf.truncated_normal(shape, stddev=0.1)\n",
    "  return tf.Variable(initial)\n",
    "\n",
    "def bias_vbariable(shape):\n",
    "  initial = tf.constant(0.1, shape=shape)\n",
    "  return tf.Variable(initial)\n",
    "\n",
    "xTrain = np.linspace(.2, .8, 101)[np.newaxis, :]\n",
    "yTrain = 1/xTrain\n",
    "\n",
    "x = tf.placeholder(\"float\", [1,None])\n",
    "hiddenDim = 10\n",
    "\n",
    "b = bias_variable([hiddenDim,1])\n",
    "W = weight_variable([hiddenDim, 1])\n",
    "\n",
    "b2 = bias_variable([1])\n",
    "W2 = weight_variable([1, hiddenDim])\n",
    "\n",
    "hidden = tf.nn.sigmoid(tf.matmul(W, x) + b)\n",
    "y = tf.matmul(W2, hidden) + b2\n",
    "\n",
    "# Minimize the squared errors.\n",
    "loss = tf.reduce_mean(tf.square(y - yTrain))\n",
    "optimizer = tf.train.GradientDescentOptimizer(0.5)\n",
    "train = optimizer.minimize(loss)\n",
    "\n",
    "# For initializing the variables.\n",
    "init = tf.initialize_all_variables()\n",
    "\n",
    "# Launch the graph\n",
    "sess = tf.Session()\n",
    "sess.run(init)\n",
    "\n",
    "for step in xrange(0, 4001):\n",
    "    train.run({x: xTrain}, sess)\n",
    "    if step % 500 == 0:\n",
    "        print loss.eval({x: xTrain}, sess)\n"
   ]
  },
  {
   "cell_type": "code",
   "execution_count": 4,
   "metadata": {
    "collapsed": false
   },
   "outputs": [
    {
     "data": {
      "image/png": "[encoded data removed]",
      "text/plain": [
       "<matplotlib.figure.Figure at 0x106df4150>"
      ]
     },
     "metadata": {},
     "output_type": "display_data"
    }
   ],
   "source": [
    "xTest = np.linspace(0.2, 0.8, 1001)\n",
    "yTest = y.eval({x:toNd(xTest)}, sess)  \n",
    "import matplotlib.pyplot as plt\n",
    "plt.plot(xTest,yTest.transpose().tolist())\n",
    "plt.plot(xTest,map(lambda x: 1/x, xTest))\n",
    "plt.show()"
   ]
  }
 ],
 "metadata": {
  "kernelspec": {
   "display_name": "Python 2",
   "language": "python",
   "name": "python2"
  },
  "language_info": {
   "codemirror_mode": {
    "name": "ipython",
    "version": 2
   },
   "file_extension": ".py",
   "mimetype": "text/x-python",
   "name": "python",
   "nbconvert_exporter": "python",
   "pygments_lexer": "ipython2",
   "version": "2.7.9"
  }
 },
 "nbformat": 4,
 "nbformat_minor": 0
}
